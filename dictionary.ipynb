{
 "cells": [
  {
   "cell_type": "code",
   "execution_count": 9,
   "id": "edbcb97f",
   "metadata": {},
   "outputs": [],
   "source": [
    "dict1={\"name\":\"Maganti Santhosh Kumar\"}"
   ]
  },
  {
   "cell_type": "code",
   "execution_count": 10,
   "id": "91ef712a",
   "metadata": {},
   "outputs": [
    {
     "data": {
      "text/plain": [
       "{'name': 'Maganti Santhosh Kumar'}"
      ]
     },
     "execution_count": 10,
     "metadata": {},
     "output_type": "execute_result"
    }
   ],
   "source": [
    "dict1"
   ]
  },
  {
   "cell_type": "code",
   "execution_count": 11,
   "id": "fc398bae",
   "metadata": {},
   "outputs": [],
   "source": [
    "dict2={\"family\":(\"veera brahmmam\",\"ratna kumari\",\"sravanthi\",\"sravani\")}"
   ]
  },
  {
   "cell_type": "code",
   "execution_count": 12,
   "id": "be25c9ac",
   "metadata": {},
   "outputs": [
    {
     "data": {
      "text/plain": [
       "{'family': ('veera brahmmam', 'ratna kumari', 'sravanthi', 'sravani')}"
      ]
     },
     "execution_count": 12,
     "metadata": {},
     "output_type": "execute_result"
    }
   ],
   "source": [
    "dict2"
   ]
  },
  {
   "cell_type": "code",
   "execution_count": 13,
   "id": "3879663f",
   "metadata": {},
   "outputs": [],
   "source": [
    "dict3={\"family\":(\"veera brahmmam\",\"ratna kumari\",\"sravanthi\",\"sravani\"),\"relation\":(\"father\",\"mother\",\"elder sister\",\"younger sister\")}\n"
   ]
  },
  {
   "cell_type": "code",
   "execution_count": 14,
   "id": "df882239",
   "metadata": {},
   "outputs": [
    {
     "data": {
      "text/plain": [
       "{'family': ('veera brahmmam', 'ratna kumari', 'sravanthi', 'sravani'),\n",
       " 'relation': ('father', 'mother', 'elder sister', 'younger sister')}"
      ]
     },
     "execution_count": 14,
     "metadata": {},
     "output_type": "execute_result"
    }
   ],
   "source": [
    "dict3"
   ]
  },
  {
   "cell_type": "code",
   "execution_count": null,
   "id": "3bdc3b74",
   "metadata": {},
   "outputs": [],
   "source": []
  },
  {
   "cell_type": "code",
   "execution_count": null,
   "id": "42cdbb13",
   "metadata": {},
   "outputs": [],
   "source": []
  },
  {
   "cell_type": "code",
   "execution_count": null,
   "id": "43af9364",
   "metadata": {},
   "outputs": [],
   "source": []
  }
 ],
 "metadata": {
  "kernelspec": {
   "display_name": "Python 3 (ipykernel)",
   "language": "python",
   "name": "python3"
  },
  "language_info": {
   "codemirror_mode": {
    "name": "ipython",
    "version": 3
   },
   "file_extension": ".py",
   "mimetype": "text/x-python",
   "name": "python",
   "nbconvert_exporter": "python",
   "pygments_lexer": "ipython3",
   "version": "3.10.9"
  }
 },
 "nbformat": 4,
 "nbformat_minor": 5
}
